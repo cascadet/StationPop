{
 "cells": [
  {
   "cell_type": "markdown",
   "metadata": {},
   "source": [
    "# Stations Dist\n",
    "By Cascade Tuholske  \n",
    "\n",
    "Notebook takes GCHN/GSOD stations and figures out how many people live within buffered distances from them using GHSL-Pop 2015"
   ]
  },
  {
   "cell_type": "code",
   "execution_count": 1,
   "metadata": {},
   "outputs": [],
   "source": [
    "import os\n",
    "import rasterio\n",
    "from rasterio import features\n",
    "import pandas as pd\n",
    "import geopandas as gpd\n",
    "from shapely.geometry import Point \n",
    "import matplotlib.pyplot as plt\n",
    "import numpy as np\n",
    "from skimage.morphology import square\n",
    "from skimage.morphology import dilation"
   ]
  },
  {
   "cell_type": "markdown",
   "metadata": {},
   "source": [
    "### Turn CHIRTS-daily GHCN/GSOD stations into a raster"
   ]
  },
  {
   "cell_type": "code",
   "execution_count": 2,
   "metadata": {},
   "outputs": [
    {
     "data": {
      "text/html": [
       "<div>\n",
       "<style scoped>\n",
       "    .dataframe tbody tr th:only-of-type {\n",
       "        vertical-align: middle;\n",
       "    }\n",
       "\n",
       "    .dataframe tbody tr th {\n",
       "        vertical-align: top;\n",
       "    }\n",
       "\n",
       "    .dataframe thead th {\n",
       "        text-align: right;\n",
       "    }\n",
       "</style>\n",
       "<table border=\"1\" class=\"dataframe\">\n",
       "  <thead>\n",
       "    <tr style=\"text-align: right;\">\n",
       "      <th></th>\n",
       "      <th>latitudes</th>\n",
       "      <th>longitudes</th>\n",
       "      <th>elevations</th>\n",
       "      <th>country_seqnums</th>\n",
       "      <th>station_seqnums</th>\n",
       "      <th>cn_st_seqnums</th>\n",
       "      <th>hottest3</th>\n",
       "      <th>CHIRTS_cor</th>\n",
       "      <th>CHIRTS_mae</th>\n",
       "      <th>CHIRTS_sigdif</th>\n",
       "      <th>Princeton_cor</th>\n",
       "      <th>Princeton_mae</th>\n",
       "      <th>Princeton_sigdif</th>\n",
       "      <th>source</th>\n",
       "    </tr>\n",
       "  </thead>\n",
       "  <tbody>\n",
       "    <tr>\n",
       "      <th>0</th>\n",
       "      <td>-34.4478</td>\n",
       "      <td>116.043</td>\n",
       "      <td>174</td>\n",
       "      <td>150</td>\n",
       "      <td>100009</td>\n",
       "      <td>150100009</td>\n",
       "      <td>1.0</td>\n",
       "      <td>0.967057</td>\n",
       "      <td>0.872308</td>\n",
       "      <td>-0.098095</td>\n",
       "      <td>0.805001</td>\n",
       "      <td>2.308543</td>\n",
       "      <td>-0.803658</td>\n",
       "      <td>GHCN</td>\n",
       "    </tr>\n",
       "    <tr>\n",
       "      <th>1</th>\n",
       "      <td>-32.4400</td>\n",
       "      <td>116.074</td>\n",
       "      <td>286</td>\n",
       "      <td>150</td>\n",
       "      <td>100028</td>\n",
       "      <td>150100028</td>\n",
       "      <td>1.0</td>\n",
       "      <td>0.956613</td>\n",
       "      <td>0.987142</td>\n",
       "      <td>-0.100106</td>\n",
       "      <td>0.869387</td>\n",
       "      <td>1.869749</td>\n",
       "      <td>0.318944</td>\n",
       "      <td>GHCN</td>\n",
       "    </tr>\n",
       "    <tr>\n",
       "      <th>2</th>\n",
       "      <td>-32.1083</td>\n",
       "      <td>116.925</td>\n",
       "      <td>199</td>\n",
       "      <td>150</td>\n",
       "      <td>100042</td>\n",
       "      <td>150100042</td>\n",
       "      <td>12.0</td>\n",
       "      <td>0.973448</td>\n",
       "      <td>0.789935</td>\n",
       "      <td>-0.127166</td>\n",
       "      <td>0.904122</td>\n",
       "      <td>1.651555</td>\n",
       "      <td>0.514729</td>\n",
       "      <td>GHCN</td>\n",
       "    </tr>\n",
       "    <tr>\n",
       "      <th>3</th>\n",
       "      <td>-32.5336</td>\n",
       "      <td>117.083</td>\n",
       "      <td>297</td>\n",
       "      <td>150</td>\n",
       "      <td>100061</td>\n",
       "      <td>150100061</td>\n",
       "      <td>12.0</td>\n",
       "      <td>0.973918</td>\n",
       "      <td>0.775232</td>\n",
       "      <td>-0.128055</td>\n",
       "      <td>0.906823</td>\n",
       "      <td>1.633426</td>\n",
       "      <td>0.509606</td>\n",
       "      <td>GHCN</td>\n",
       "    </tr>\n",
       "    <tr>\n",
       "      <th>4</th>\n",
       "      <td>-34.5683</td>\n",
       "      <td>116.337</td>\n",
       "      <td>210</td>\n",
       "      <td>150</td>\n",
       "      <td>100078</td>\n",
       "      <td>150100078</td>\n",
       "      <td>1.0</td>\n",
       "      <td>0.974630</td>\n",
       "      <td>0.906238</td>\n",
       "      <td>-0.493786</td>\n",
       "      <td>0.798112</td>\n",
       "      <td>2.401256</td>\n",
       "      <td>-1.250025</td>\n",
       "      <td>GHCN</td>\n",
       "    </tr>\n",
       "  </tbody>\n",
       "</table>\n",
       "</div>"
      ],
      "text/plain": [
       "   latitudes  longitudes  elevations  country_seqnums  station_seqnums  \\\n",
       "0   -34.4478     116.043         174              150           100009   \n",
       "1   -32.4400     116.074         286              150           100028   \n",
       "2   -32.1083     116.925         199              150           100042   \n",
       "3   -32.5336     117.083         297              150           100061   \n",
       "4   -34.5683     116.337         210              150           100078   \n",
       "\n",
       "   cn_st_seqnums  hottest3  CHIRTS_cor  CHIRTS_mae  CHIRTS_sigdif  \\\n",
       "0      150100009       1.0    0.967057    0.872308      -0.098095   \n",
       "1      150100028       1.0    0.956613    0.987142      -0.100106   \n",
       "2      150100042      12.0    0.973448    0.789935      -0.127166   \n",
       "3      150100061      12.0    0.973918    0.775232      -0.128055   \n",
       "4      150100078       1.0    0.974630    0.906238      -0.493786   \n",
       "\n",
       "   Princeton_cor  Princeton_mae  Princeton_sigdif source  \n",
       "0       0.805001       2.308543         -0.803658   GHCN  \n",
       "1       0.869387       1.869749          0.318944   GHCN  \n",
       "2       0.904122       1.651555          0.514729   GHCN  \n",
       "3       0.906823       1.633426          0.509606   GHCN  \n",
       "4       0.798112       2.401256         -1.250025   GHCN  "
      ]
     },
     "execution_count": 2,
     "metadata": {},
     "output_type": "execute_result"
    }
   ],
   "source": [
    "stations_fn = os.path.join('/Users/cpt2136/Github/UrbanHeat/data/CHIRTS-daily/ValidationData/Validated/GHCN-and-GSOD-CHIRTSTmax_ERA5_meta-with-validation.csv')\n",
    "stations = pd.read_csv(stations_fn)\n",
    "stations.drop(labels = 'Unnamed: 0', axis = 1, inplace = True)\n",
    "stations.head()"
   ]
  },
  {
   "cell_type": "code",
   "execution_count": 3,
   "metadata": {},
   "outputs": [
    {
     "data": {
      "text/plain": [
       "15713"
      ]
     },
     "execution_count": 3,
     "metadata": {},
     "output_type": "execute_result"
    }
   ],
   "source": [
    "len(stations)"
   ]
  },
  {
   "cell_type": "code",
   "execution_count": 4,
   "metadata": {},
   "outputs": [
    {
     "name": "stderr",
     "output_type": "stream",
     "text": [
      "/Users/cpt2136/miniconda3/envs/geo38/lib/python3.8/site-packages/pyproj/crs/crs.py:53: FutureWarning: '+init=<authority>:<code>' syntax is deprecated. '<authority>:<code>' is the preferred initialization method. When making the change, be mindful of axis order changes: https://pyproj4.github.io/pyproj/stable/gotchas.html#axis-order-changes-in-proj-6\n",
      "  return _prepare_from_string(\" \".join(pjargs))\n"
     ]
    }
   ],
   "source": [
    "# Turn into gdf\n",
    "# creating a geometry column \n",
    "stations['geometry'] = [Point(xy) for xy in zip(stations['longitudes'], stations['latitudes'])]\n",
    "\n",
    "# Coordinate reference system : WGS84\n",
    "crs = {'init': 'epsg:4326'}\n",
    "\n",
    "# Creating a Geographic data frame \n",
    "stations_gdf = gpd.GeoDataFrame(stations, crs=crs)"
   ]
  },
  {
   "cell_type": "code",
   "execution_count": 5,
   "metadata": {},
   "outputs": [
    {
     "data": {
      "text/plain": [
       "<AxesSubplot:>"
      ]
     },
     "execution_count": 5,
     "metadata": {},
     "output_type": "execute_result"
    },
    {
     "data": {
      "image/png": "[encoded data removed]",
      "text/plain": [
       "<Figure size 432x288 with 1 Axes>"
      ]
     },
     "metadata": {
      "needs_background": "light"
     },
     "output_type": "display_data"
    }
   ],
   "source": [
    "stations_gdf.plot()"
   ]
  },
  {
   "cell_type": "code",
   "execution_count": 10,
   "metadata": {},
   "outputs": [
    {
     "data": {
      "text/html": [
       "<div>\n",
       "<style scoped>\n",
       "    .dataframe tbody tr th:only-of-type {\n",
       "        vertical-align: middle;\n",
       "    }\n",
       "\n",
       "    .dataframe tbody tr th {\n",
       "        vertical-align: top;\n",
       "    }\n",
       "\n",
       "    .dataframe thead th {\n",
       "        text-align: right;\n",
       "    }\n",
       "</style>\n",
       "<table border=\"1\" class=\"dataframe\">\n",
       "  <thead>\n",
       "    <tr style=\"text-align: right;\">\n",
       "      <th></th>\n",
       "      <th>geometry</th>\n",
       "      <th>ID</th>\n",
       "    </tr>\n",
       "  </thead>\n",
       "  <tbody>\n",
       "    <tr>\n",
       "      <th>0</th>\n",
       "      <td>POINT (116.04300 -34.44780)</td>\n",
       "      <td>1</td>\n",
       "    </tr>\n",
       "    <tr>\n",
       "      <th>1</th>\n",
       "      <td>POINT (116.07400 -32.44000)</td>\n",
       "      <td>1</td>\n",
       "    </tr>\n",
       "    <tr>\n",
       "      <th>2</th>\n",
       "      <td>POINT (116.92500 -32.10830)</td>\n",
       "      <td>1</td>\n",
       "    </tr>\n",
       "    <tr>\n",
       "      <th>3</th>\n",
       "      <td>POINT (117.08300 -32.53360)</td>\n",
       "      <td>1</td>\n",
       "    </tr>\n",
       "    <tr>\n",
       "      <th>4</th>\n",
       "      <td>POINT (116.33700 -34.56830)</td>\n",
       "      <td>1</td>\n",
       "    </tr>\n",
       "  </tbody>\n",
       "</table>\n",
       "</div>"
      ],
      "text/plain": [
       "                      geometry  ID\n",
       "0  POINT (116.04300 -34.44780)   1\n",
       "1  POINT (116.07400 -32.44000)   1\n",
       "2  POINT (116.92500 -32.10830)   1\n",
       "3  POINT (117.08300 -32.53360)   1\n",
       "4  POINT (116.33700 -34.56830)   1"
      ]
     },
     "execution_count": 10,
     "metadata": {},
     "output_type": "execute_result"
    }
   ],
   "source": [
    "# get geom and make column 1\n",
    "polys = gpd.GeoDataFrame(stations_gdf['geometry'])\n",
    "polys['ID'] = 1\n",
    "polys.head()"
   ]
  },
  {
   "cell_type": "markdown",
   "metadata": {},
   "source": [
    "#### Buffer stations"
   ]
  },
  {
   "cell_type": "code",
   "execution_count": 44,
   "metadata": {},
   "outputs": [
    {
     "name": "stderr",
     "output_type": "stream",
     "text": [
      "<ipython-input-44-c141a0446a56>:2: UserWarning: Geometry is in a geographic CRS. Results from 'buffer' are likely incorrect. Use 'GeoSeries.to_crs()' to re-project geometries to a projected CRS before this operation.\n",
      "\n",
      "  buffer_1k = gpd.GeoDataFrame(geometry = polys.buffer(0.01))\n"
     ]
    },
    {
     "data": {
      "text/html": [
       "<div>\n",
       "<style scoped>\n",
       "    .dataframe tbody tr th:only-of-type {\n",
       "        vertical-align: middle;\n",
       "    }\n",
       "\n",
       "    .dataframe tbody tr th {\n",
       "        vertical-align: top;\n",
       "    }\n",
       "\n",
       "    .dataframe thead th {\n",
       "        text-align: right;\n",
       "    }\n",
       "</style>\n",
       "<table border=\"1\" class=\"dataframe\">\n",
       "  <thead>\n",
       "    <tr style=\"text-align: right;\">\n",
       "      <th></th>\n",
       "      <th>geometry</th>\n",
       "      <th>ID</th>\n",
       "    </tr>\n",
       "  </thead>\n",
       "  <tbody>\n",
       "    <tr>\n",
       "      <th>0</th>\n",
       "      <td>POLYGON ((116.05300 -34.44780, 116.05295 -34.4...</td>\n",
       "      <td>1</td>\n",
       "    </tr>\n",
       "    <tr>\n",
       "      <th>1</th>\n",
       "      <td>POLYGON ((116.08400 -32.44000, 116.08395 -32.4...</td>\n",
       "      <td>1</td>\n",
       "    </tr>\n",
       "    <tr>\n",
       "      <th>2</th>\n",
       "      <td>POLYGON ((116.93500 -32.10830, 116.93495 -32.1...</td>\n",
       "      <td>1</td>\n",
       "    </tr>\n",
       "    <tr>\n",
       "      <th>3</th>\n",
       "      <td>POLYGON ((117.09300 -32.53360, 117.09295 -32.5...</td>\n",
       "      <td>1</td>\n",
       "    </tr>\n",
       "    <tr>\n",
       "      <th>4</th>\n",
       "      <td>POLYGON ((116.34700 -34.56830, 116.34695 -34.5...</td>\n",
       "      <td>1</td>\n",
       "    </tr>\n",
       "  </tbody>\n",
       "</table>\n",
       "</div>"
      ],
      "text/plain": [
       "                                            geometry  ID\n",
       "0  POLYGON ((116.05300 -34.44780, 116.05295 -34.4...   1\n",
       "1  POLYGON ((116.08400 -32.44000, 116.08395 -32.4...   1\n",
       "2  POLYGON ((116.93500 -32.10830, 116.93495 -32.1...   1\n",
       "3  POLYGON ((117.09300 -32.53360, 117.09295 -32.5...   1\n",
       "4  POLYGON ((116.34700 -34.56830, 116.34695 -34.5...   1"
      ]
     },
     "execution_count": 44,
     "metadata": {},
     "output_type": "execute_result"
    }
   ],
   "source": [
    "# try buffering by 0.01° ~ 1km\n",
    "buffer_1k = gpd.GeoDataFrame(geometry = polys.buffer(0.01))\n",
    "buffer_1k['ID'] = 1\n",
    "buffer_1k.head()"
   ]
  },
  {
   "cell_type": "code",
   "execution_count": 32,
   "metadata": {},
   "outputs": [],
   "source": [
    "#buffer_1k.to_file(os.path.join('../data/interim/GHCN-GSOD-5km.shp'))"
   ]
  },
  {
   "cell_type": "markdown",
   "metadata": {},
   "source": [
    "#### Burn Array"
   ]
  },
  {
   "cell_type": "code",
   "execution_count": 45,
   "metadata": {},
   "outputs": [],
   "source": [
    "# Burn array\n",
    "ghs_fn = os.path.join('/Users/cpt2136/Github/PopGridCompare/data/interim/GHS15_matched.tif') \n",
    "ghs = rasterio.open(ghs_fn) # base map\n",
    "\n",
    "meta = ghs.meta.copy() # copy meta data from rst\n",
    "arr = ghs.read(1) # get an array to burn shapes\n",
    "arr.fill(0) # revalue rst to an Nan Value before burning in polygons \n",
    "\n",
    "# extract geom and values to burn\n",
    "shapes = ((geom,value) for geom, value in zip(buffer_1k['geometry'], polys['ID'])) \n",
    "\n",
    "# burn shapes into an array - Using no touch see rasterstats zonal stats documentation for justification \n",
    "burned = features.rasterize(shapes=shapes, fill=0, out=arr, transform=ghs.transform, all_touched=False)"
   ]
  },
  {
   "cell_type": "code",
   "execution_count": 46,
   "metadata": {},
   "outputs": [],
   "source": [
    "# write the raster\n",
    "# out_fn = os.path.join('../data/interim/GHCN-GSOD-5km.tif')\n",
    "# with rasterio.open(out_fn, 'w', **meta) as out:\n",
    "#     out.write_band(1, burned)"
   ]
  },
  {
   "cell_type": "code",
   "execution_count": 47,
   "metadata": {},
   "outputs": [],
   "source": [
    "# How many people live within 5 km of a station\n",
    "ghs_pop = ghs.read(1) # get population\n",
    "ghs_pop[ghs_pop == -999] = 0 # re set neg values\n",
    "pop_sum = burned * ghs_pop"
   ]
  },
  {
   "cell_type": "code",
   "execution_count": 48,
   "metadata": {},
   "outputs": [
    {
     "name": "stdout",
     "output_type": "stream",
     "text": [
      "How many people within ~5 km 38.830341638166324  million\n"
     ]
    }
   ],
   "source": [
    "ans = pop_sum .flatten().sum()\n",
    "print('How many people within ~5 km', ans/10**6, ' million')"
   ]
  },
  {
   "cell_type": "markdown",
   "metadata": {},
   "source": [
    "## Five km"
   ]
  },
  {
   "cell_type": "code",
   "execution_count": null,
   "metadata": {},
   "outputs": [],
   "source": [
    "burned_1k = dilation(burned, square(3))"
   ]
  },
  {
   "cell_type": "code",
   "execution_count": null,
   "metadata": {},
   "outputs": [],
   "source": [
    "# write the raster\n",
    "out_fn = os.path.join('/Users/cpt2136/Github/GeoClim/data/interim/stations/ghcn-gsod-rst-1k.tif')\n",
    "with rasterio.open(out_fn, 'w', **meta) as out:\n",
    "    out.write_band(1, burned_1k)"
   ]
  }
 ],
 "metadata": {
  "kernelspec": {
   "display_name": "Python 3",
   "language": "python",
   "name": "python3"
  },
  "language_info": {
   "codemirror_mode": {
    "name": "ipython",
    "version": 3
   },
   "file_extension": ".py",
   "mimetype": "text/x-python",
   "name": "python",
   "nbconvert_exporter": "python",
   "pygments_lexer": "ipython3",
   "version": "3.8.6"
  }
 },
 "nbformat": 4,
 "nbformat_minor": 5
}
