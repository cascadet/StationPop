{
 "cells": [
  {
   "cell_type": "markdown",
   "metadata": {},
   "source": [
    "# Plots\n",
    "Cascade Tuholske Aug 2021\n",
    "\n",
    "Make plots of dist binned population from GHCN/GSOD stations "
   ]
  },
  {
   "cell_type": "code",
   "execution_count": 1,
   "metadata": {},
   "outputs": [],
   "source": [
    "import os\n",
    "import rasterio\n",
    "from rasterio import features\n",
    "import pandas as pd\n",
    "import geopandas as gpd\n",
    "from shapely.geometry import Point \n",
    "import matplotlib.pyplot as plt\n",
    "import numpy as np"
   ]
  },
  {
   "cell_type": "markdown",
   "metadata": {},
   "source": [
    "### Turn CHIRTS-daily GHCN/GSOD stations into points"
   ]
  },
  {
   "cell_type": "code",
   "execution_count": 2,
   "metadata": {},
   "outputs": [
    {
     "name": "stderr",
     "output_type": "stream",
     "text": [
      "/Users/cpt2136/miniconda3/envs/geo38/lib/python3.8/site-packages/pyproj/crs/crs.py:53: FutureWarning: '+init=<authority>:<code>' syntax is deprecated. '<authority>:<code>' is the preferred initialization method. When making the change, be mindful of axis order changes: https://pyproj4.github.io/pyproj/stable/gotchas.html#axis-order-changes-in-proj-6\n",
      "  return _prepare_from_string(\" \".join(pjargs))\n"
     ]
    }
   ],
   "source": [
    "# Open Stations\n",
    "stations_fn = os.path.join('/Users/cpt2136/Github/UrbanHeat/data/CHIRTS-daily/ValidationData/Validated/GHCN-and-GSOD-CHIRTSTmax_ERA5_meta-with-validation.csv')\n",
    "stations = pd.read_csv(stations_fn)\n",
    "stations.drop(labels = 'Unnamed: 0', axis = 1, inplace = True)\n",
    "\n",
    "# Turn into gdf\n",
    "stations['geometry'] = [Point(xy) for xy in zip(stations['longitudes'], stations['latitudes'])] # creating a geometry column \n",
    "crs = {'init': 'epsg:4326'} # Coordinate reference system : WGS84\n",
    "stations_gdf = gpd.GeoDataFrame(stations, crs=crs)\n",
    "\n",
    "# get geom \n",
    "stations_pnt = gpd.GeoDataFrame(stations_gdf['geometry'])"
   ]
  },
  {
   "cell_type": "markdown",
   "metadata": {},
   "source": [
    "### Burn Arrays"
   ]
  },
  {
   "cell_type": "code",
   "execution_count": 99,
   "metadata": {},
   "outputs": [],
   "source": [
    "def buffer_burn(gdf_in, buff, buff_dist = None, touch = False):\n",
    "    \n",
    "    \"\"\" Takes points or polys, buffers them and burns them into an array, all touched is set to False by defualt. \n",
    "    Returns burned array.\n",
    "    Args:\n",
    "        gdf_in = points to buffer\n",
    "        buff = if True, then buffer a point\n",
    "        buff_dist = distance to buffer, in degrees\n",
    "        touch = all touch or no touch burn, see rasterio documentation\n",
    "    \"\"\"\n",
    "    \n",
    "    # buffer polys\n",
    "    if buff == True:\n",
    "        buffer = gpd.GeoDataFrame(geometry = gdf_in.buffer(buff_dist))\n",
    "        buffer['ID'] = 1\n",
    "    \n",
    "    else:\n",
    "        buffer = gdf_in\n",
    "    \n",
    "    # Burn array\n",
    "    ghs_fn = os.path.join('/Users/cpt2136/Github/PopGridCompare/data/interim/GHS15_matched.tif') \n",
    "    ghs = rasterio.open(ghs_fn) # base map\n",
    "\n",
    "    meta = ghs.meta.copy() # copy meta data from rst\n",
    "    arr = ghs.read(1) # get an array to burn shapes\n",
    "    arr.fill(0) # revalue rst to an Nan Value before burning in polygons \n",
    "\n",
    "    # extract geom and values to burn\n",
    "    shapes = ((geom,value) for geom, value in zip(buffer['geometry'], buffer['ID'])) \n",
    "\n",
    "    # burn shapes into an array - Using no touch see rasterstats zonal stats documentation for justification \n",
    "    burned = features.rasterize(shapes=shapes, fill=0, out=arr, transform=ghs.transform, all_touched=touch)\n",
    "    \n",
    "    return burned"
   ]
  },
  {
   "cell_type": "code",
   "execution_count": 4,
   "metadata": {},
   "outputs": [
    {
     "name": "stderr",
     "output_type": "stream",
     "text": [
      "<ipython-input-3-505a9c03b915>:12: UserWarning: Geometry is in a geographic CRS. Results from 'buffer' are likely incorrect. Use 'GeoSeries.to_crs()' to re-project geometries to a projected CRS before this operation.\n",
      "\n",
      "  buffer = gpd.GeoDataFrame(geometry = points_in.buffer(buff_dist))\n"
     ]
    }
   ],
   "source": [
    "# buff 1k, 5k, 10k, 25k - error is ok, we're using unprojected data and this a-OK for this project\n",
    "buff_1k = buffer_burn(points_in = stations_pnt, buff_dist = 0.01, touch = False)\n",
    "buff_5k = buffer_burn(points_in = stations_pnt, buff_dist = 0.05, touch = False)\n",
    "buff_10k = buffer_burn(points_in = stations_pnt, buff_dist = 0.1, touch = False)\n",
    "buff_25k = buffer_burn(points_in = stations_pnt, buff_dist = 0.25, touch = False)"
   ]
  },
  {
   "cell_type": "code",
   "execution_count": 5,
   "metadata": {},
   "outputs": [],
   "source": [
    "# buff differences\n",
    "buff_1_5k = buff_1k + buff_5k\n",
    "buff_1_5k[buff_1_5k > 1] = 0\n",
    "\n",
    "buff_5_10k = buff_5k + buff_10k\n",
    "buff_5_10k[buff_5_10k == 2] = 0\n",
    "\n",
    "buff_10_25k = buff_10k + buff_25k\n",
    "buff_10_25k[buff_10_25k == 2] = 0 "
   ]
  },
  {
   "cell_type": "code",
   "execution_count": 6,
   "metadata": {},
   "outputs": [],
   "source": [
    "# > 25 K\n",
    "buff_25k_plus = buff_25k.copy()\n",
    "\n",
    "# invert so 1 is all area >25k from station\n",
    "buff_25k_plus[buff_25k_plus == 1] = 2\n",
    "buff_25k_plus[buff_25k_plus == 0] = 1\n",
    "buff_25k_plus[buff_25k_plus == 2] = 0"
   ]
  },
  {
   "cell_type": "code",
   "execution_count": null,
   "metadata": {},
   "outputs": [],
   "source": [
    "# save out buffers - update arr_out and out_fn \n",
    "# ghs_fn = os.path.join('/Users/cpt2136/Github/PopGridCompare/data/interim/GHS15_matched.tif') \n",
    "# ghs = rasterio.open(ghs_fn) # base map\n",
    "\n",
    "# meta = ghs.meta.copy() # copy meta data from rst\n",
    "# arr = ghs.read(1) # get an array to burn shapes\n",
    "\n",
    "# # name them \n",
    "# arr_out = buff_25k_plus\n",
    "# out_fn = os.path.join('../data/interim/GHCN-GSOD-25k-plus.tif')\n",
    "\n",
    "# # write the raster\n",
    "# with rasterio.open(out_fn, 'w', **meta) as out:\n",
    "#     out.write_band(1, arr_out)"
   ]
  },
  {
   "cell_type": "markdown",
   "metadata": {},
   "source": [
    "### Total"
   ]
  },
  {
   "cell_type": "code",
   "execution_count": 17,
   "metadata": {},
   "outputs": [],
   "source": [
    "def tot_pop(arr):\n",
    "    tot = (arr * ghs_arr).sum()\n",
    "    \n",
    "    return tot"
   ]
  },
  {
   "cell_type": "code",
   "execution_count": 45,
   "metadata": {},
   "outputs": [],
   "source": [
    "# get populations\n",
    "ghs_fn = os.path.join('/Users/cpt2136/Github/PopGridCompare/data/interim/GHS15_matched.tif') \n",
    "ghs_arr = rasterio.open(ghs_fn).read(1)"
   ]
  },
  {
   "cell_type": "code",
   "execution_count": 46,
   "metadata": {},
   "outputs": [],
   "source": [
    "# remove nan -999 values from ghs pop\n",
    "ghs_arr[ghs_arr < 1] = 0"
   ]
  },
  {
   "cell_type": "code",
   "execution_count": 20,
   "metadata": {
    "scrolled": true
   },
   "outputs": [
    {
     "name": "stdout",
     "output_type": "stream",
     "text": [
      "all 1-k 38.830341638166324\n",
      "urban 1-k 239833.89617297243\n",
      "peri 1-k 22252.63970698611\n"
     ]
    }
   ],
   "source": [
    "# Gut check\n",
    "all_1k = (buff_1k * ghs_arr).sum() / 10**6\n",
    "print('all 1-k',(buff_1k * ghs_arr).sum() / 10**6) \n",
    "urban_1k = (urban_1k * ghs_arr).sum() / 10**6\n",
    "print('urban 1-k', (urban_1k * ghs_arr).sum() / 10**6)\n",
    "peri_1k = (peri_1k * ghs_arr).sum() / 10**6\n",
    "print('peri 1-k',(peri_1k * ghs_arr).sum() / 10**6)"
   ]
  },
  {
   "cell_type": "code",
   "execution_count": 51,
   "metadata": {},
   "outputs": [],
   "source": [
    "# totals \n",
    "tot_1k = (buff_1k * ghs_arr).sum()\n",
    "tot_1_5k = (buff_1_5k * ghs_arr).sum()\n",
    "tot_5_10k = (buff_5_10k * ghs_arr).sum()\n",
    "tot_10_25k = (buff_10_25k * ghs_arr).sum()\n",
    "tot_25k_plus = (buff_25k_plus * ghs_arr).sum()"
   ]
  },
  {
   "cell_type": "code",
   "execution_count": 52,
   "metadata": {},
   "outputs": [],
   "source": [
    "# list \n",
    "totals = [tot_1k, tot_1_5k, tot_5_10k, tot_10_25k, tot_25k_plus]"
   ]
  },
  {
   "cell_type": "code",
   "execution_count": 53,
   "metadata": {},
   "outputs": [
    {
     "data": {
      "text/plain": [
       "[38830341.63816632,\n",
       " 597281954.6628637,\n",
       " 808711345.9065161,\n",
       " 1359450883.0836291,\n",
       " 4539033735.996844]"
      ]
     },
     "execution_count": 53,
     "metadata": {},
     "output_type": "execute_result"
    }
   ],
   "source": [
    "totals"
   ]
  },
  {
   "cell_type": "code",
   "execution_count": 54,
   "metadata": {
    "scrolled": true
   },
   "outputs": [
    {
     "name": "stdout",
     "output_type": "stream",
     "text": [
      "world 7.343308261288027\n",
      "totals 7.343308261288019\n"
     ]
    }
   ],
   "source": [
    "# World population\n",
    "print('world', ghs_arr.sum() /10**9)\n",
    "print('totals',sum(totals) /10**9)"
   ]
  },
  {
   "cell_type": "markdown",
   "metadata": {},
   "source": [
    "### Urban Totals"
   ]
  },
  {
   "cell_type": "code",
   "execution_count": 55,
   "metadata": {},
   "outputs": [],
   "source": [
    "smod_fn = os.path.join('../data/interim/GHS-SMOD15-Urban-Peri-Rural-Matched.tif')\n",
    "smod_urban = rasterio.open(smod_fn).read(1)"
   ]
  },
  {
   "cell_type": "code",
   "execution_count": 56,
   "metadata": {
    "scrolled": true
   },
   "outputs": [
    {
     "name": "stdout",
     "output_type": "stream",
     "text": [
      "[0 1]\n"
     ]
    }
   ],
   "source": [
    "# smod -200 = NaN, 10 = Water, 111 = Rural, 222 = Peri Urban and towns, 333 = Urban\n",
    "urban = smod_urban.copy()\n",
    "urban[urban == -200] = 0 # set nan to zero\n",
    "urban[urban == 111] = 0 # set rural to zero \n",
    "urban[urban == 222] = 0 # set peri urban to zero\n",
    "urban[urban == 333] = 1 # set urban to 1\n",
    "print(np.unique(urban))"
   ]
  },
  {
   "cell_type": "code",
   "execution_count": 57,
   "metadata": {},
   "outputs": [
    {
     "data": {
      "text/plain": [
       "1384501"
      ]
     },
     "execution_count": 57,
     "metadata": {},
     "output_type": "execute_result"
    }
   ],
   "source": [
    "np.count_nonzero(urban == 1)"
   ]
  },
  {
   "cell_type": "code",
   "execution_count": 58,
   "metadata": {},
   "outputs": [
    {
     "data": {
      "text/plain": [
       "1384501"
      ]
     },
     "execution_count": 58,
     "metadata": {},
     "output_type": "execute_result"
    }
   ],
   "source": [
    "np.count_nonzero(smod_urban == 333)"
   ]
  },
  {
   "cell_type": "code",
   "execution_count": 60,
   "metadata": {},
   "outputs": [],
   "source": [
    "# make urban arrays\n",
    "tot_urban_1k = (buff_1k * urban * ghs_arr).sum()\n",
    "tot_urban_1_5k = (buff_1_5k * urban * ghs_arr).sum()\n",
    "tot_urban_5_10k = (buff_5_10k * urban * ghs_arr).sum()\n",
    "tot_urban_10_25k = (buff_10_25k * urban * ghs_arr).sum()\n",
    "tot_urban_25k_plus = (buff_25k_plus * urban * ghs_arr).sum()"
   ]
  },
  {
   "cell_type": "code",
   "execution_count": 61,
   "metadata": {},
   "outputs": [],
   "source": [
    "# list\n",
    "urban_totals = [tot_urban_1k, tot_urban_1_5k, tot_urban_5_10k, tot_urban_10_25k, tot_urban_25k_plus] "
   ]
  },
  {
   "cell_type": "code",
   "execution_count": 62,
   "metadata": {},
   "outputs": [
    {
     "name": "stdout",
     "output_type": "stream",
     "text": [
      "world urban 4.505177582944893\n",
      "urban totals 4.505177582944939\n"
     ]
    }
   ],
   "source": [
    "# World population\n",
    "print('world urban', (ghs_arr * urban).sum() /10**9)\n",
    "print('urban totals', sum(urban_totals) /10**9)"
   ]
  },
  {
   "cell_type": "markdown",
   "metadata": {},
   "source": [
    "### Peri-Urban and Town Arrays"
   ]
  },
  {
   "cell_type": "code",
   "execution_count": 63,
   "metadata": {},
   "outputs": [],
   "source": [
    "smod_fn = os.path.join('../data/interim/GHS-SMOD15-Urban-Peri-Rural-Matched.tif')\n",
    "smod_peri = rasterio.open(smod_fn).read(1)"
   ]
  },
  {
   "cell_type": "code",
   "execution_count": 64,
   "metadata": {},
   "outputs": [
    {
     "name": "stdout",
     "output_type": "stream",
     "text": [
      "[0 1]\n"
     ]
    }
   ],
   "source": [
    "# smod -200 = NaN, 10 = Water, 111 = Rural, 222 = Peri peri and towns, 333 = peri\n",
    "peri = smod_peri.copy()\n",
    "peri[peri == -200] = 0 # set nan to zero \n",
    "peri[peri == 111] = 0 # set rural to zero \n",
    "peri[peri == 333] = 0 # set urban to zero\n",
    "peri[peri == 222] = 1 # set peri to 1\n",
    "print(np.unique(peri))"
   ]
  },
  {
   "cell_type": "code",
   "execution_count": 65,
   "metadata": {},
   "outputs": [
    {
     "data": {
      "text/plain": [
       "1416736"
      ]
     },
     "execution_count": 65,
     "metadata": {},
     "output_type": "execute_result"
    }
   ],
   "source": [
    "np.count_nonzero(peri == 1)"
   ]
  },
  {
   "cell_type": "code",
   "execution_count": 14,
   "metadata": {},
   "outputs": [
    {
     "data": {
      "text/plain": [
       "1416736"
      ]
     },
     "execution_count": 14,
     "metadata": {},
     "output_type": "execute_result"
    }
   ],
   "source": [
    "np.count_nonzero(smod_peri == 222)"
   ]
  },
  {
   "cell_type": "code",
   "execution_count": 69,
   "metadata": {},
   "outputs": [],
   "source": [
    "# make peri arrays\n",
    "tot_peri_1k = (buff_1k * peri * ghs_arr).sum()\n",
    "tot_peri_1_5k = (buff_1_5k * peri * ghs_arr).sum()\n",
    "tot_peri_5_10k = (buff_5_10k * peri * ghs_arr).sum()\n",
    "tot_peri_10_25k = (buff_10_25k * peri * ghs_arr).sum()\n",
    "tot_peri_25k_plus = (buff_25k_plus * peri * ghs_arr).sum()"
   ]
  },
  {
   "cell_type": "code",
   "execution_count": 70,
   "metadata": {},
   "outputs": [],
   "source": [
    "# list\n",
    "peri_totals = [tot_peri_1k, tot_peri_1_5k, tot_peri_5_10k, tot_peri_10_25k, tot_peri_25k_plus] "
   ]
  },
  {
   "cell_type": "code",
   "execution_count": 71,
   "metadata": {
    "scrolled": false
   },
   "outputs": [
    {
     "name": "stdout",
     "output_type": "stream",
     "text": [
      "world peri 0.8148320237761467\n",
      "peri totals 0.8148320237761422\n"
     ]
    }
   ],
   "source": [
    "# World population\n",
    "print('world peri', (ghs_arr * peri).sum() /10**9)\n",
    "print('peri totals', sum(peri_totals) /10**9)"
   ]
  },
  {
   "cell_type": "markdown",
   "metadata": {},
   "source": [
    "### Plot"
   ]
  },
  {
   "cell_type": "code",
   "execution_count": 108,
   "metadata": {},
   "outputs": [
    {
     "data": {
      "image/png": "[encoded data removed]",
      "text/plain": [
       "<Figure size 576x576 with 1 Axes>"
      ]
     },
     "metadata": {
      "needs_background": "light"
     },
     "output_type": "display_data"
    }
   ],
   "source": [
    "# Make bar plot \n",
    "fn_out = os.path.join('../data/figs/Fig1.tif')\n",
    "\n",
    "fig, axs = plt.subplots(1, 1, figsize = (8, 8), sharex=True)\n",
    "ws = 0.25\n",
    "fig.subplots_adjust(wspace=ws)\n",
    "scale = 10**6\n",
    "\n",
    "locs = [1,2,3,4,5]\n",
    "\n",
    "# All\n",
    "data = totals\n",
    "data = [x / 10**9 for x in data]\n",
    "plt.bar(locs, data, color = 'darkturquoise', width=0.5)\n",
    "\n",
    "# peri-urban \n",
    "data = [a + b for a, b in zip(urban_totals, peri_totals)]\n",
    "data = [x / 10**9 for x in data]\n",
    "plt.bar(locs, data, color = 'dodgerblue', width=0.5)\n",
    "\n",
    "# Urban \n",
    "data = urban_totals\n",
    "data = [x / 10**9 for x in data]\n",
    "plt.bar(locs, data, color = 'darkslategray', width=0.5)\n",
    "\n",
    "# Labels & ticks\n",
    "labels = ['<= 1km ', '1-5km', '5-10km', '10-25km', '>25km'];\n",
    "plt.xticks([1,2,3,4,5], labels, fontsize = 13);\n",
    "plt.xlabel('Distance from GHCN/GSOD Station', fontsize = 15)\n",
    "plt.ylabel('Population (Billions)', fontsize = 15)\n",
    "plt.yticks(fontsize = 13);\n",
    "\n",
    "# legend\n",
    "leg = ['Rural', 'Peri-urban', 'Urban']\n",
    "plt.legend(leg, fontsize = 15)\n",
    "\n",
    "plt.savefig(fn_out, dpi = 300, bbox_inches='tight') # tif"
   ]
  },
  {
   "cell_type": "markdown",
   "metadata": {},
   "source": [
    "### India, USA, Brazil, Nigeria"
   ]
  },
  {
   "cell_type": "code",
   "execution_count": 103,
   "metadata": {},
   "outputs": [],
   "source": [
    "def get_totals(in_arr):\n",
    "    \n",
    "    \" Subsets totals with an array \"\n",
    "    \n",
    "    # totals \n",
    "    sub_tot_1k = (buff_1k * ghs_arr * in_arr).sum()\n",
    "    sub_tot_1_5k = (buff_1_5k * ghs_arr * in_arr).sum()\n",
    "    sub_tot_5_10k = (buff_5_10k * ghs_arr * in_arr).sum()\n",
    "    sub_tot_10_25k = (buff_10_25k * ghs_arr).sum()\n",
    "    sub_tot_25k_plus = (buff_25k_plus * ghs_arr * in_arr).sum()\n",
    "    print('totals done')\n",
    "    \n",
    "    # make urban arrays\n",
    "    sub_tot_urban_1k = (buff_1k * urban * ghs_arr * in_arr).sum()\n",
    "    sub_tot_urban_1_5k = (buff_1_5k * urban * ghs_arr * in_arr).sum()\n",
    "    sub_tot_urban_5_10k = (buff_5_10k * urban * ghs_arr * in_arr).sum()\n",
    "    sub_tot_urban_10_25k = (buff_10_25k * urban * ghs_arr * in_arr).sum()\n",
    "    sub_tot_urban_25k_plus = (buff_25k_plus * urban * ghs_arr * in_arr).sum()\n",
    "    print('urbaan done')\n",
    "    \n",
    "    # make peri arrays\n",
    "    sub_tot_peri_1k = (buff_1k * peri * ghs_arr * in_arr).sum()\n",
    "    sub_tot_peri_1_5k = (buff_1_5k * peri * ghs_arr * in_arr).sum()\n",
    "    sub_tot_peri_5_10k = (buff_5_10k * peri * ghs_arr * in_arr).sum()\n",
    "    sub_tot_peri_10_25k = (buff_10_25k * peri * ghs_arr * in_arr).sum()\n",
    "    sub_tot_peri_25k_plus = (buff_25k_plus * peri * ghs_arr * in_arr).sum()\n",
    "    \n",
    "     # lists\n",
    "    sub_totals = [sub_tot_1k, sub_tot_1_5k, sub_tot_5_10k, sub_tot_10_25k, sub_tot_25k_plus]\n",
    "    sub_urban_totals = [sub_tot_urban_1k, sub_tot_urban_1_5k, sub_tot_urban_5_10k, sub_tot_urban_10_25k, sub_tot_urban_25k_plus] \n",
    "    sub_peri_totals = [sub_tot_peri_1k, sub_tot_peri_1_5k, sub_tot_peri_5_10k, sub_tot_peri_10_25k, sub_tot_peri_25k_plus] \n",
    "    \n",
    "    return sub_totals, sub_urban_totals, sub_peri_totals"
   ]
  },
  {
   "cell_type": "code",
   "execution_count": 97,
   "metadata": {},
   "outputs": [],
   "source": [
    "# Open shape file - China\n",
    "shapes_fn = os.path.join('../../GeoClim/data/raw/shapefiles/gadm36_CHN_shp/gadm36_CHN_0.shp')\n",
    "shapes = gpd.read_file(shapes_fn)\n",
    "polys = gpd.GeoDataFrame(shapes['geometry'])\n",
    "polys['ID'] = 1\n",
    "\n",
    "# Burn it\n",
    "rst = buffer_burn(polys, buff = False, buff_dist = None, touch = True)\n",
    "\n",
    "# make it for country\n",
    "chn_tot, chn_urban, chn_per = get_totals(in_arr = rst)"
   ]
  },
  {
   "cell_type": "code",
   "execution_count": 100,
   "metadata": {},
   "outputs": [],
   "source": [
    "# Burn it\n",
    "rst = buffer_burn(polys, buff = False, buff_dist = None, touch = True)"
   ]
  },
  {
   "cell_type": "code",
   "execution_count": 104,
   "metadata": {},
   "outputs": [],
   "source": [
    "# make it for country\n",
    "chn_tot, chn_urban, chn_per = get_totals(in_arr = rst)"
   ]
  },
  {
   "cell_type": "code",
   "execution_count": 107,
   "metadata": {},
   "outputs": [
    {
     "data": {
      "text/plain": [
       "2.5254706036338557"
      ]
     },
     "execution_count": 107,
     "metadata": {},
     "output_type": "execute_result"
    }
   ],
   "source": [
    "sum(chn_tot) /10 ** 9"
   ]
  },
  {
   "cell_type": "markdown",
   "metadata": {},
   "source": [
    "# Final plot"
   ]
  },
  {
   "cell_type": "code",
   "execution_count": null,
   "metadata": {},
   "outputs": [],
   "source": [
    "#### Make Figure and save it -- CHIRTS CORRELATION\n",
    "#FN_OUT = 'FIG-WBGT32-S1'\n",
    "\n",
    "rcParams['mathtext.default'] = 'regular' # set text to reg, not italic \n",
    "fig = plt.figure(figsize=(12, 6), constrained_layout=True)\n",
    "gs = fig.add_gridspec(2, 4)\n",
    "\n",
    "# All\n",
    "f_ax1 = fig.add_subplot(gs[:, 0:2])\n",
    "\n",
    "\n",
    "\n",
    "\n",
    "\n",
    "\n",
    "\n",
    "\n",
    "\n",
    "\n",
    "\n",
    "\n",
    "\n",
    "\n",
    "\n",
    "\n",
    "\n",
    "\n",
    "\n",
    "# Legend\n",
    "labels = ['PGF', 'CHIRTS-daily']\n",
    "plt.legend(labels, fontsize = 16)\n",
    "\n",
    "# Africa\n",
    "f_ax2 = fig.add_subplot(gs[0, 2])\n",
    "region = 'Northern America'\n",
    "data = urban[urban['sub-region'] == region]\n",
    "f_ax2.hist(data['Princeton_cor'], color = 'mediumblue', alpha = 0.2)\n",
    "f_ax2.hist(data['CHIRTS_cor'], color = 'springgreen', alpha = 0.6)\n",
    "f_ax2.set_xlim(xlim)\n",
    "f_ax2.set_title('Northern America', fontsize = 16)\n",
    "\n",
    "# S Asia \n",
    "f_ax3 = fig.add_subplot(gs[1, 2])\n",
    "region = 'Southern Asia'\n",
    "data = urban[urban['sub-region'] == region]\n",
    "f_ax3.hist(data['Princeton_cor'], color = 'mediumblue', alpha = 0.2)\n",
    "f_ax3.hist(data['CHIRTS_cor'], color = 'springgreen', alpha = 0.6)\n",
    "f_ax3.set_xlim(xlim)\n",
    "f_ax3.set_title('Southern Asia', fontsize = 16)\n",
    "\n",
    "# Africa\n",
    "f_ax4 = fig.add_subplot(gs[0, 3])\n",
    "region = 'Africa'\n",
    "data = urban[urban['region'] == region]\n",
    "f_ax4.hist(data['Princeton_cor'], color = 'mediumblue', alpha = 0.2)\n",
    "f_ax4.hist(data['CHIRTS_cor'], color = 'springgreen', alpha = 0.6)\n",
    "f_ax4.set_xlim(xlim)\n",
    "f_ax4.set_title('Africa', fontsize = 16)\n",
    "\n",
    "# Western Asia\n",
    "f_ax5 = fig.add_subplot(gs[1, 3])\n",
    "region = 'Western Asia'\n",
    "data = urban[urban['sub-region'] == region]\n",
    "f_ax5.hist(data['Princeton_cor'], color = 'mediumblue', alpha = 0.2)\n",
    "f_ax5.hist(data['CHIRTS_cor'], color = 'springgreen', alpha = 0.6)\n",
    "f_ax5.set_xlim(xlim)\n",
    "f_ax5.set_title('Western Asia', fontsize = 16)\n",
    "\n",
    "# save it out\n",
    "#plt.savefig(FIG_OUT+FN_OUT+'.tiff', dpi = 300, bbox_inches='tight') # tif\n",
    "#plt.savefig(FIG_OUT+FN_OUT+'.png', dpi = 300, bbox_inches='tight') # png"
   ]
  }
 ],
 "metadata": {
  "kernelspec": {
   "display_name": "Python 3",
   "language": "python",
   "name": "python3"
  },
  "language_info": {
   "codemirror_mode": {
    "name": "ipython",
    "version": 3
   },
   "file_extension": ".py",
   "mimetype": "text/x-python",
   "name": "python",
   "nbconvert_exporter": "python",
   "pygments_lexer": "ipython3",
   "version": "3.8.6"
  }
 },
 "nbformat": 4,
 "nbformat_minor": 4
}
