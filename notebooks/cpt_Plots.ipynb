{
 "cells": [
  {
   "cell_type": "markdown",
   "metadata": {},
   "source": [
    "# Plots\n",
    "Cascade Tuholske Aug 2021\n",
    "\n",
    "Make plots of dist binned population from GHCN/GSOD stations "
   ]
  },
  {
   "cell_type": "code",
   "execution_count": 1,
   "metadata": {},
   "outputs": [],
   "source": [
    "import os\n",
    "import rasterio\n",
    "from rasterio import features\n",
    "import pandas as pd\n",
    "import geopandas as gpd\n",
    "from shapely.geometry import Point \n",
    "import matplotlib.pyplot as plt\n",
    "import numpy as np"
   ]
  },
  {
   "cell_type": "markdown",
   "metadata": {},
   "source": [
    "### Turn CHIRTS-daily GHCN/GSOD stations into points"
   ]
  },
  {
   "cell_type": "code",
   "execution_count": 2,
   "metadata": {},
   "outputs": [
    {
     "name": "stderr",
     "output_type": "stream",
     "text": [
      "/Users/cpt2136/miniconda3/envs/geo38/lib/python3.8/site-packages/pyproj/crs/crs.py:53: FutureWarning: '+init=<authority>:<code>' syntax is deprecated. '<authority>:<code>' is the preferred initialization method. When making the change, be mindful of axis order changes: https://pyproj4.github.io/pyproj/stable/gotchas.html#axis-order-changes-in-proj-6\n",
      "  return _prepare_from_string(\" \".join(pjargs))\n"
     ]
    }
   ],
   "source": [
    "# Open Stations\n",
    "stations_fn = os.path.join('/Users/cpt2136/Github/UrbanHeat/data/CHIRTS-daily/ValidationData/Validated/GHCN-and-GSOD-CHIRTSTmax_ERA5_meta-with-validation.csv')\n",
    "stations = pd.read_csv(stations_fn)\n",
    "stations.drop(labels = 'Unnamed: 0', axis = 1, inplace = True)\n",
    "\n",
    "# Turn into gdf\n",
    "stations['geometry'] = [Point(xy) for xy in zip(stations['longitudes'], stations['latitudes'])] # creating a geometry column \n",
    "crs = {'init': 'epsg:4326'} # Coordinate reference system : WGS84\n",
    "stations_gdf = gpd.GeoDataFrame(stations, crs=crs)\n",
    "\n",
    "# get geom \n",
    "stations_pnt = gpd.GeoDataFrame(stations_gdf['geometry'])"
   ]
  },
  {
   "cell_type": "markdown",
   "metadata": {},
   "source": [
    "### Burn Arrays"
   ]
  },
  {
   "cell_type": "code",
   "execution_count": 3,
   "metadata": {},
   "outputs": [],
   "source": [
    "def buffer_burn(points_in, buff_dist, touch = False):\n",
    "    \n",
    "    \"\"\" Takes points, buffers them and burns them into an array, all touched is set to False by defualt. \n",
    "    Returns burned array.\n",
    "    Args:\n",
    "        polys_in = points to buffer\n",
    "        buff_dist = distance to buffer, in degrees\n",
    "        touch = all touch or no touch burn, see rasterio documentation\n",
    "    \"\"\"\n",
    "    \n",
    "    # buffer polys\n",
    "    buffer = gpd.GeoDataFrame(geometry = points_in.buffer(buff_dist))\n",
    "    buffer['ID'] = 1\n",
    "    \n",
    "    # Burn array\n",
    "    ghs_fn = os.path.join('/Users/cpt2136/Github/PopGridCompare/data/interim/GHS15_matched.tif') \n",
    "    ghs = rasterio.open(ghs_fn) # base map\n",
    "\n",
    "    meta = ghs.meta.copy() # copy meta data from rst\n",
    "    arr = ghs.read(1) # get an array to burn shapes\n",
    "    arr.fill(0) # revalue rst to an Nan Value before burning in polygons \n",
    "\n",
    "    # extract geom and values to burn\n",
    "    shapes = ((geom,value) for geom, value in zip(buffer['geometry'], buffer['ID'])) \n",
    "\n",
    "    # burn shapes into an array - Using no touch see rasterstats zonal stats documentation for justification \n",
    "    burned = features.rasterize(shapes=shapes, fill=0, out=arr, transform=ghs.transform, all_touched=touch)\n",
    "    \n",
    "    return burned"
   ]
  },
  {
   "cell_type": "code",
   "execution_count": 4,
   "metadata": {},
   "outputs": [
    {
     "name": "stderr",
     "output_type": "stream",
     "text": [
      "<ipython-input-3-505a9c03b915>:12: UserWarning: Geometry is in a geographic CRS. Results from 'buffer' are likely incorrect. Use 'GeoSeries.to_crs()' to re-project geometries to a projected CRS before this operation.\n",
      "\n",
      "  buffer = gpd.GeoDataFrame(geometry = points_in.buffer(buff_dist))\n"
     ]
    }
   ],
   "source": [
    "# buff 1k, 5k, 10k, 25k - error is ok, we're using unprojected data and this a-OK for this project\n",
    "buff_1k = buffer_burn(points_in = stations_pnt, buff_dist = 0.01, touch = False)\n",
    "buff_5k = buffer_burn(points_in = stations_pnt, buff_dist = 0.05, touch = False)\n",
    "buff_10k = buffer_burn(points_in = stations_pnt, buff_dist = 0.1, touch = False)\n",
    "buff_25k = buffer_burn(points_in = stations_pnt, buff_dist = 0.25, touch = False)"
   ]
  },
  {
   "cell_type": "code",
   "execution_count": 13,
   "metadata": {},
   "outputs": [],
   "source": [
    "# buff differences\n",
    "buff_1_5k = buff_1k + buff_5k\n",
    "buff_1_5k[buff_1_5k > 1] = 0\n",
    "\n",
    "buff_5_10k = buff_5k + buff_10k\n",
    "buff_5_10k[buff_5_10k == 2] = 0\n",
    "\n",
    "buff_10_25k = buff_10k + buff_25k\n",
    "buff_10_25k[buff_10_25k == 2] = 0 "
   ]
  },
  {
   "cell_type": "code",
   "execution_count": 19,
   "metadata": {},
   "outputs": [],
   "source": [
    "# > 25 K\n",
    "buff_25k_plus = buff_25k.copy()\n",
    "\n",
    "# invert\n",
    "buff_25k_plus[buff_25k_plus == 1] = 2\n",
    "buff_25k_plus[buff_25k_plus == 0] = 1\n",
    "buff_25k_plus[buff_25k_plus == 2] = 0\n",
    "\n",
    "# add in the middle\n",
    "# buff_25k_plus = buff_25k_plus + buff_10_25k + buff_5_10k + buff_1_5k + buff_1k\n",
    "# buff_25k_plus[buff_25k_plus > 1] == 0"
   ]
  },
  {
   "cell_type": "code",
   "execution_count": 20,
   "metadata": {},
   "outputs": [],
   "source": [
    "# save out buffers - update arr_out and out_fn \n",
    "ghs_fn = os.path.join('/Users/cpt2136/Github/PopGridCompare/data/interim/GHS15_matched.tif') \n",
    "ghs = rasterio.open(ghs_fn) # base map\n",
    "\n",
    "meta = ghs.meta.copy() # copy meta data from rst\n",
    "arr = ghs.read(1) # get an array to burn shapes\n",
    "\n",
    "# name them \n",
    "arr_out = buff_25k_plus\n",
    "out_fn = os.path.join('../data/interim/GHCN-GSOD-25k-plus.tif')\n",
    "\n",
    "# write the raster\n",
    "with rasterio.open(out_fn, 'w', **meta) as out:\n",
    "    out.write_band(1, arr_out)"
   ]
  },
  {
   "cell_type": "markdown",
   "metadata": {},
   "source": [
    "### Urban Arrays"
   ]
  },
  {
   "cell_type": "code",
   "execution_count": 21,
   "metadata": {},
   "outputs": [],
   "source": [
    "smod_fn = os.path.join('../data/interim/GHS-SMOD15-UrbanRural-Matched.tif')\n",
    "smod_arr = rasterio.open(smod_fn).read(1)"
   ]
  },
  {
   "cell_type": "code",
   "execution_count": 22,
   "metadata": {},
   "outputs": [],
   "source": [
    "# smod -200 = NaN, 10 = Water, 111 = Rural, 222 = Urban\n",
    "urban = smod_arr.copy()\n",
    "urban[urban == 111] = 0 # set rural to zero \n",
    "urban[urban == 10] = 0 # set water to zero\n",
    "urban[urban == -200] = 0 # set nana to zero\n",
    "urban[urban == 222] = 1 # set urban to 1\n"
   ]
  },
  {
   "cell_type": "code",
   "execution_count": 23,
   "metadata": {},
   "outputs": [],
   "source": [
    "# make urban arrays\n",
    "urban_1k = buff_1k * urban\n",
    "urban_1_5k = buff_1_5k * urban\n",
    "urban_5_10k = buff_5_10k * urban\n",
    "urban_10_25k = buff_10_25k * urban\n",
    "urban_25k_plus = buff_25k_plus * urban"
   ]
  },
  {
   "cell_type": "code",
   "execution_count": 24,
   "metadata": {
    "scrolled": false
   },
   "outputs": [
    {
     "name": "stdout",
     "output_type": "stream",
     "text": [
      "urban 15883\n",
      "all 59328\n",
      "gut check 15883\n"
     ]
    }
   ],
   "source": [
    "# check number of pixels\n",
    "print('urban', np.count_nonzero(urban_1k == 1))\n",
    "print('all', np.count_nonzero(buff_1k == 1))\n",
    "gut = buff_1k * urban_1k\n",
    "print('gut check', np.count_nonzero(gut == 1))"
   ]
  },
  {
   "cell_type": "markdown",
   "metadata": {},
   "source": [
    "### Gut Check"
   ]
  },
  {
   "cell_type": "code",
   "execution_count": 25,
   "metadata": {
    "scrolled": false
   },
   "outputs": [
    {
     "name": "stdout",
     "output_type": "stream",
     "text": [
      "urban 15883\n",
      "all 59328\n",
      "gut check 15883\n"
     ]
    }
   ],
   "source": [
    "# check number of pixels\n",
    "print('urban', np.count_nonzero(urban_1k == 1))\n",
    "print('all', np.count_nonzero(buff_1k == 1))\n",
    "gut = buff_1k * urban_1k\n",
    "print('gut check', np.count_nonzero(gut == 1))"
   ]
  },
  {
   "cell_type": "code",
   "execution_count": 26,
   "metadata": {
    "scrolled": true
   },
   "outputs": [],
   "source": [
    "# get populations\n",
    "ghs_fn = os.path.join('/Users/cpt2136/Github/PopGridCompare/data/interim/GHS15_matched.tif') \n",
    "ghs_arr = rasterio.open(ghs_fn).read(1)"
   ]
  },
  {
   "cell_type": "code",
   "execution_count": 27,
   "metadata": {},
   "outputs": [],
   "source": [
    "gut = ghs_arr.copy()"
   ]
  },
  {
   "cell_type": "code",
   "execution_count": 28,
   "metadata": {},
   "outputs": [],
   "source": [
    "gut[gut < 1] = 0\n",
    "gut[gut >= 1] = 1"
   ]
  },
  {
   "cell_type": "code",
   "execution_count": 29,
   "metadata": {},
   "outputs": [
    {
     "name": "stdout",
     "output_type": "stream",
     "text": [
      "ghs 21811071\n"
     ]
    }
   ],
   "source": [
    "# check number of pixels\n",
    "print('ghs', np.count_nonzero(gut == 1))\n"
   ]
  },
  {
   "cell_type": "code",
   "execution_count": 30,
   "metadata": {},
   "outputs": [
    {
     "name": "stdout",
     "output_type": "stream",
     "text": [
      "all 41180\n",
      "ghs urban 15380\n"
     ]
    }
   ],
   "source": [
    "tot = gut * buff_1k\n",
    "print('all', np.count_nonzero(tot == 1))\n",
    "tot_urban = gut * urban_1k\n",
    "print('ghs urban', np.count_nonzero(tot_urban == 1))"
   ]
  },
  {
   "cell_type": "code",
   "execution_count": 31,
   "metadata": {},
   "outputs": [
    {
     "name": "stdout",
     "output_type": "stream",
     "text": [
      "all 0\n",
      "ghs urban 0\n"
     ]
    }
   ],
   "source": [
    "gut = ghs_arr.copy()\n",
    "gut[gut < 1] = 0\n",
    "tot = gut * buff_1k\n",
    "print('all', np.count_nonzero(tot == 1))\n",
    "tot_urban = gut * urban_1k\n",
    "print('ghs urban', np.count_nonzero(tot_urban == 1))"
   ]
  },
  {
   "cell_type": "code",
   "execution_count": 32,
   "metadata": {
    "scrolled": true
   },
   "outputs": [
    {
     "name": "stdout",
     "output_type": "stream",
     "text": [
      "tot sum 38.830341638166324\n",
      "urban sum 35.70333818907231\n"
     ]
    }
   ],
   "source": [
    "print('tot sum', tot.sum() /10**6)\n",
    "print('urban sum', tot_urban.sum()/10**6)"
   ]
  },
  {
   "cell_type": "markdown",
   "metadata": {},
   "source": [
    "### Totals"
   ]
  },
  {
   "cell_type": "code",
   "execution_count": 33,
   "metadata": {},
   "outputs": [],
   "source": [
    "def tot_pop(arr):\n",
    "    tot = (arr * ghs_arr).sum()\n",
    "    \n",
    "    return tot"
   ]
  },
  {
   "cell_type": "code",
   "execution_count": 34,
   "metadata": {},
   "outputs": [],
   "source": [
    "# get populations\n",
    "ghs_fn = os.path.join('/Users/cpt2136/Github/PopGridCompare/data/interim/GHS15_matched.tif') \n",
    "ghs_arr = rasterio.open(ghs_fn).read(1)"
   ]
  },
  {
   "cell_type": "code",
   "execution_count": 35,
   "metadata": {},
   "outputs": [],
   "source": [
    "# remove nan -999 values from ghs pop\n",
    "ghs_arr[ghs_arr < 1] = 0"
   ]
  },
  {
   "cell_type": "code",
   "execution_count": 36,
   "metadata": {},
   "outputs": [],
   "source": [
    "# totals \n",
    "tot_1k = tot_pop(buff_1k)\n",
    "tot_1_5k = tot_pop(buff_1_5k)\n",
    "tot_5_10k = tot_pop(buff_5_10k)\n",
    "tot_10_25k = tot_pop(buff_10_25k)\n",
    "tot_25k_plus = tot_pop(buff_25k_plus)"
   ]
  },
  {
   "cell_type": "code",
   "execution_count": 37,
   "metadata": {},
   "outputs": [],
   "source": [
    "# list \n",
    "totals = [tot_1k, tot_1_5k, tot_5_10k, tot_10_25k, tot_25k_plus]\n"
   ]
  },
  {
   "cell_type": "code",
   "execution_count": 42,
   "metadata": {},
   "outputs": [
    {
     "name": "stdout",
     "output_type": "stream",
     "text": [
      "world 7.343308261288027\n",
      "totals 7343308261.288019\n"
     ]
    }
   ],
   "source": [
    "# World population\n",
    "print('world', ghs_arr.sum() /10**9)\n",
    "print('totals',sum(totals))"
   ]
  },
  {
   "cell_type": "code",
   "execution_count": 43,
   "metadata": {},
   "outputs": [],
   "source": [
    "# Urban totals\n",
    "tot_urban_1k = tot_pop(urban_1k)\n",
    "tot_urban_1_5k = tot_pop(urban_1_5k)\n",
    "tot_urban_5_10k  = tot_pop(buff_5_10k)\n",
    "tot_urban_10_25k = tot_pop(urban_10_25k)\n",
    "tot_urban_25k_plus = tot_pop(urban_25k_plus)"
   ]
  },
  {
   "cell_type": "code",
   "execution_count": 45,
   "metadata": {},
   "outputs": [],
   "source": [
    "# list\n",
    "urban_totals = [tot_urban_1k, tot_urban_1_5k, tot_urban_5_10k, tot_urban_10_25k, tot_urban_25k_plus] \n"
   ]
  },
  {
   "cell_type": "code",
   "execution_count": 46,
   "metadata": {},
   "outputs": [
    {
     "name": "stdout",
     "output_type": "stream",
     "text": [
      "world urban 5321867504.070008\n",
      "urban totals 5398757477.008375\n"
     ]
    }
   ],
   "source": [
    "# World population\n",
    "print('world urban', (ghs_arr * urban).sum())\n",
    "print('urban totals', sum(urban_totals))"
   ]
  },
  {
   "cell_type": "markdown",
   "metadata": {},
   "source": [
    "### Plot"
   ]
  },
  {
   "cell_type": "code",
   "execution_count": 59,
   "metadata": {},
   "outputs": [
    {
     "data": {
      "text/plain": [
       "<matplotlib.legend.Legend at 0x7f9d03653ca0>"
      ]
     },
     "execution_count": 59,
     "metadata": {},
     "output_type": "execute_result"
    },
    {
     "data": {
      "image/png": "[encoded data removed]",
      "text/plain": [
       "<Figure size 576x576 with 1 Axes>"
      ]
     },
     "metadata": {
      "needs_background": "light"
     },
     "output_type": "display_data"
    }
   ],
   "source": [
    "# Make bar plot \n",
    "fig, axs = plt.subplots(1, 1, figsize = (8, 8), sharex=True)\n",
    "ws = 0.25\n",
    "fig.subplots_adjust(wspace=ws)\n",
    "scale = 10**6\n",
    "\n",
    "locs = [1,2,3,4,5]\n",
    "\n",
    "# All\n",
    "data = [tot_1k, tot_1_5k, tot_5_10k, tot_10_25k, tot_25k_plus]\n",
    "data = [x / 10**9 for x in data]\n",
    "plt.bar(locs, data, color = 'springgreen', alpha = 0.7, width=0.5)\n",
    "\n",
    "# Urban \n",
    "data = [tot_urban_1k, tot_urban_1_5k, tot_urban_5_10k, tot_urban_10_25k, tot_urban_25k_plus] \n",
    "data = [x / 10**9 for x in data]\n",
    "plt.bar(locs, data, color = 'red', alpha = 0.7, width=0.5)\n",
    "\n",
    "# Labels & ticks\n",
    "labels = ['<= 1km ', '1-5km', '5-10km', '10-25km', '>25km'];\n",
    "plt.xticks([1,2,3,4,5], labels, fontsize = 13);\n",
    "plt.xlabel('Distance from GHCN/GSOD Station', fontsize = 15)\n",
    "plt.ylabel('Population (Billions)', fontsize = 15)\n",
    "plt.yticks(fontsize = 13);\n",
    "\n",
    "# legend\n",
    "leg = ['Rural', 'Urban']\n",
    "plt.legend(leg, fontsize = 15)"
   ]
  },
  {
   "cell_type": "code",
   "execution_count": null,
   "metadata": {},
   "outputs": [],
   "source": [
    "# All\n",
    "tots = [tot_1k, tot_1_5k, tot_5_10k, tot_10_25k, tot_25k_plus]\n",
    "\n",
    "# Urban \n",
    "urbans = [tot_urban_1k, tot_urban_1_5k, tot_urban_5_10k, tot_urban_10_25k, tot_urban_25k_plus] \n"
   ]
  },
  {
   "cell_type": "code",
   "execution_count": null,
   "metadata": {},
   "outputs": [],
   "source": [
    "sum(urbans) / 10**9"
   ]
  },
  {
   "cell_type": "code",
   "execution_count": null,
   "metadata": {},
   "outputs": [],
   "source": []
  },
  {
   "cell_type": "code",
   "execution_count": null,
   "metadata": {},
   "outputs": [],
   "source": []
  },
  {
   "cell_type": "code",
   "execution_count": null,
   "metadata": {},
   "outputs": [],
   "source": []
  },
  {
   "cell_type": "code",
   "execution_count": null,
   "metadata": {},
   "outputs": [],
   "source": []
  },
  {
   "cell_type": "code",
   "execution_count": null,
   "metadata": {},
   "outputs": [],
   "source": [
    "# Make bar plot \n",
    "fig, axs = plt.subplots(1, 1, figsize = (12, 8), sharex=True)\n",
    "ws = 0.25\n",
    "fig.subplots_adjust(wspace=ws)\n",
    "scale = 10**6\n",
    "\n",
    "# All Quake\n",
    "data = group(npl_all)\n",
    "\n",
    "# Bar locations\n",
    "a = [1-.3,2-.3,3-.3, 4-.3]\n",
    "b = [1-.15,2-.15,3-.15,4-.15]\n",
    "c = [1,2,3,4]\n",
    "d = [1+.15,2+.15,3+.15,4+.15]\n",
    "e = [1+.3,2+.3,3+.3,4+.3]\n",
    "\n",
    "# plots\n",
    "plt.bar(a, data.ESRI16_sum / scale, width=0.12, align='center', alpha  = 0.5, color = ESRI16_c, ec = 'black')\n",
    "plt.bar(b, data.GHS15_sum / scale, width=0.12, align='center', alpha  = 0.6, color = GHS15_c, ec = 'black')\n",
    "plt.bar(c, data.GPWv4_sum / scale, width=0.12, align='center', alpha  = 0.7, color = GPWv4_c, ec = 'black')\n",
    "plt.bar(d, data.LS15_sum / scale, width=0.12, align='center', alpha  = 0.8, color = LS15_c, ec = 'black')\n",
    "plt.bar(e, data.WP16_sum / scale, width=0.12, align='center', alpha  = 0.9, color = WP16_c, ec = 'black')\n",
    "\n",
    "# Fake plot for rural hatch legend \n",
    "plt.bar(e, data.WP16_sum / scale, width=0.12, align='center', alpha  = 0, color = 'white', ec = 'black',hatch = \"///\")\n",
    "\n",
    "# rural floods\n",
    "data = group(npl_rural)\n",
    "plt.bar(a, data.ESRI16_sum / scale, width=0.12, align='center', alpha  = 0.5, color = ESRI16_c, ec = 'black', hatch = \"///\")\n",
    "plt.bar(b, data.GHS15_sum / scale, width=0.12, align='center', alpha  = 0.6, color = GHS15_c, ec = 'black', hatch = \"///\")\n",
    "plt.bar(c, data.GPWv4_sum / scale, width=0.12, align='center', alpha  = 0.7, color = GPWv4_c, ec = 'black', hatch = \"///\")\n",
    "plt.bar(d, data.LS15_sum / scale, width=0.12, align='center', alpha  = 0.8, color = LS15_c, ec = 'black', hatch = \"///\")\n",
    "plt.bar(e, data.WP16_sum / scale, width=0.12, align='center', alpha  = 0.9, color = WP16_c, ec = 'black', hatch = \"///\")\n",
    "\n",
    "# legend\n",
    "legend_elements = [Patch(facecolor=ESRI16_c, alpha = 0.5, edgecolor=None, label='WPE-15'),\n",
    "                  Patch(facecolor=GHS15_c, alpha = 0.6, edgecolor=None, label='GHSL-15'),\n",
    "                  Patch(facecolor=GPWv4_c, alpha = 0.7, edgecolor=None, label='GPW-15'),\n",
    "                  Patch(facecolor=LS15_c, alpha = 0.8, edgecolor=None, label='LS-15'),\n",
    "                  Patch(facecolor= WP16_c, alpha = 0.9, edgecolor=None, label='WP-16'),\n",
    "                  Patch(facecolor= 'white', alpha = 0.9,  hatch = '///', edgecolor='black', label='rural pop')]\n",
    "plt.legend(handles = legend_elements, bbox_to_anchor=(1, 1.02), loc='upper left', ncol=1, fontsize = 15);\n",
    "\n",
    "# Labels / Titles\n",
    "axs.set_title('Nepal 2015 Earthquake Impact', size = 20)\n",
    "axs.set_xlabel('Instrumental Intesnity', fontsize = 15)\n",
    "axs.set_ylabel('Total Population [millions]', fontsize = 15)\n",
    "\n",
    "# Ticks\n",
    "ticks_bar = ['>=4', ' >=5', '>=6', '>=7'];\n",
    "plt.xticks([1,2,3,4], ticks_bar, fontsize = 15);\n",
    "plt.yticks(fontsize = 15);\n",
    "\n",
    "# save it out\n",
    "fig_out = DATA_PATH+'FIGS/MS/Finalv1/Fig4.png'\n",
    "plt.savefig(fig_out, dpi = 300, facecolor = 'white', bbox_inches='tight')"
   ]
  }
 ],
 "metadata": {
  "kernelspec": {
   "display_name": "Python 3",
   "language": "python",
   "name": "python3"
  },
  "language_info": {
   "codemirror_mode": {
    "name": "ipython",
    "version": 3
   },
   "file_extension": ".py",
   "mimetype": "text/x-python",
   "name": "python",
   "nbconvert_exporter": "python",
   "pygments_lexer": "ipython3",
   "version": "3.8.6"
  }
 },
 "nbformat": 4,
 "nbformat_minor": 4
}
