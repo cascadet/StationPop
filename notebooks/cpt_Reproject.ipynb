{
 "cells": [
  {
   "cell_type": "markdown",
   "metadata": {},
   "source": [
    "# Reproject\n",
    "By Cascade Tuholske Aug 2021  \n",
    "\n",
    "Notebook reprojects reclassified GHS-SMOD (urban/rural only) to WGS-84 from mollweide. "
   ]
  },
  {
   "cell_type": "code",
   "execution_count": 4,
   "metadata": {},
   "outputs": [],
   "source": [
    "# dependencies\n",
    "import os\n",
    "import rioxarray as rio"
   ]
  },
  {
   "cell_type": "code",
   "execution_count": 6,
   "metadata": {},
   "outputs": [],
   "source": [
    "# paths\n",
    "gpw_fn = os.path.join('/Users/cpt2136/Github/PopGridCompare/data/raw/gpw_v4/gpw-v4-population-count-rev11_2015_30_sec_tif/gpw_v4_population_count_rev11_2015_30_sec.tif')\n",
    "gpw = rio.open_rasterio(gpw_fn)\n",
    "\n",
    "smod_fn = os.path.join('../data/interim/GHS-SMOD15-UrbanRural.tif')\n",
    "smod = rio.open_rasterio(smod_fn)"
   ]
  },
  {
   "cell_type": "code",
   "execution_count": 8,
   "metadata": {},
   "outputs": [],
   "source": [
    "# reproject\n",
    "smod_match = smod.rio.reproject_match(gpw)"
   ]
  },
  {
   "cell_type": "code",
   "execution_count": 9,
   "metadata": {},
   "outputs": [],
   "source": [
    "# save it out \n",
    "fn_out = os.path.join('../data/interim/GHS-SMOD15-UrbanRural-Matched.tif')\n",
    "smod_match.rio.to_raster(fn_out) #named different for easy of use later\n"
   ]
  }
 ],
 "metadata": {
  "kernelspec": {
   "display_name": "Python 3",
   "language": "python",
   "name": "python3"
  },
  "language_info": {
   "codemirror_mode": {
    "name": "ipython",
    "version": 3
   },
   "file_extension": ".py",
   "mimetype": "text/x-python",
   "name": "python",
   "nbconvert_exporter": "python",
   "pygments_lexer": "ipython3",
   "version": "3.8.6"
  }
 },
 "nbformat": 4,
 "nbformat_minor": 4
}
