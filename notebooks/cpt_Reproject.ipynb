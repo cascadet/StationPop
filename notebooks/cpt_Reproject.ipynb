{
 "cells": [
  {
   "cell_type": "markdown",
   "metadata": {},
   "source": [
    "# Reproject\n",
    "By Cascade Tuholske Aug 2021  \n",
    "\n",
    "Notebook reprojects reclassified GHS-SMOD (urban/rural only) to WGS-84 from mollweide. "
   ]
  },
  {
   "cell_type": "code",
   "execution_count": 1,
   "metadata": {},
   "outputs": [],
   "source": [
    "# dependencies\n",
    "import os\n",
    "import rioxarray as rio\n",
    "import numpy as np"
   ]
  },
  {
   "cell_type": "code",
   "execution_count": 2,
   "metadata": {},
   "outputs": [],
   "source": [
    "# paths\n",
    "gpw_fn = os.path.join('/Users/cpt2136/Github/PopGridCompare/data/raw/gpw_v4/gpw-v4-population-count-rev11_2015_30_sec_tif/gpw_v4_population_count_rev11_2015_30_sec.tif')\n",
    "gpw = rio.open_rasterio(gpw_fn)\n",
    "\n",
    "smod_fn = os.path.join('../../PopGridCompare/data/raw/GHS_SMOD_POP2015_GLOBE_R2019A_54009_1K_V2_0/GHS_SMOD_POP2015_GLOBE_R2019A_54009_1K_V2_0.tif')\n",
    "smod = rio.open_rasterio(smod_fn)"
   ]
  },
  {
   "cell_type": "markdown",
   "metadata": {},
   "source": [
    "### Reclassify urban, rural, and peri urban based on GHS-SMOD\n",
    "See for details\n",
    "Florczyk A.J., Corbane C., Ehrlich D., Freire S., Kemper T., Maffenini L., Melchiorri M., Pesaresi M., Politis P., Schiavina M., Sabo F., Zanchetta L., GHSL Data Package 2019, EUR 29788 EN, Publications Office of the European Union, Luxembourg, 2019, ISBN 978-92-76-13186-1, [doi:10.2760/290498](doi:10.2760/290498), JRC 117104"
   ]
  },
  {
   "cell_type": "code",
   "execution_count": 3,
   "metadata": {},
   "outputs": [
    {
     "data": {
      "text/plain": [
       "array([-200,   10,   11,   12,   13,   21,   22,   23,   30], dtype=int16)"
      ]
     },
     "execution_count": 3,
     "metadata": {},
     "output_type": "execute_result"
    }
   ],
   "source": [
    "np.unique(smod.data)"
   ]
  },
  {
   "cell_type": "code",
   "execution_count": 4,
   "metadata": {},
   "outputs": [],
   "source": [
    "# urban is 22, 23, 30, peri urban is 21, 13-11 rural, 10 water, -200 nan\n",
    "\n",
    "# urban 333\n",
    "smod.data[smod.data == 30] = 333\n",
    "smod.data[smod.data == 23] = 333\n",
    "\n",
    "# peri urban or semi dense urban 222\n",
    "smod.data[smod.data == 22] = 222\n",
    "smod.data[smod.data == 21] = 222\n",
    "\n",
    "# rural 111\n",
    "smod.data[smod.data == 13] = 111\n",
    "smod.data[smod.data == 12] = 111\n",
    "smod.data[smod.data == 11] = 111\n",
    "\n",
    "# water/nan 0\n",
    "smod.data[smod.data == 10] = 0\n",
    "smod.data[smod.data == -200] = 0"
   ]
  },
  {
   "cell_type": "code",
   "execution_count": 5,
   "metadata": {},
   "outputs": [
    {
     "name": "stdout",
     "output_type": "stream",
     "text": [
      "[  0 111 222 333]\n",
      "urban 997199\n",
      "peri urban 978415\n",
      "rural 143689939\n"
     ]
    }
   ],
   "source": [
    "# check \n",
    "print(np.unique(smod.data))\n",
    "print('urban', np.count_nonzero(smod.data == 333))\n",
    "print('peri urban',np.count_nonzero(smod.data == 222))\n",
    "print('rural',np.count_nonzero(smod.data == 111))"
   ]
  },
  {
   "cell_type": "markdown",
   "metadata": {},
   "source": [
    "### Re-Project"
   ]
  },
  {
   "cell_type": "code",
   "execution_count": 6,
   "metadata": {},
   "outputs": [],
   "source": [
    "# reproject\n",
    "smod_match = smod.rio.reproject_match(gpw)"
   ]
  },
  {
   "cell_type": "code",
   "execution_count": 7,
   "metadata": {},
   "outputs": [],
   "source": [
    "# save it out \n",
    "fn_out = os.path.join('../data/interim/GHS-SMOD15-Urban-Peri-Rural-Matched.tif')\n",
    "smod_match.rio.to_raster(fn_out) #named different for easy of use later\n"
   ]
  }
 ],
 "metadata": {
  "kernelspec": {
   "display_name": "Python 3",
   "language": "python",
   "name": "python3"
  },
  "language_info": {
   "codemirror_mode": {
    "name": "ipython",
    "version": 3
   },
   "file_extension": ".py",
   "mimetype": "text/x-python",
   "name": "python",
   "nbconvert_exporter": "python",
   "pygments_lexer": "ipython3",
   "version": "3.8.6"
  }
 },
 "nbformat": 4,
 "nbformat_minor": 4
}
